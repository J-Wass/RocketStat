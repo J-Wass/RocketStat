{
 "cells": [
  {
   "cell_type": "code",
   "execution_count": 75,
   "metadata": {
    "scrolled": true
   },
   "outputs": [
    {
     "name": "stdout",
     "output_type": "stream",
     "text": [
      "        Scorer      Passer  Time  Current Team Score  Current Opponent Score  \\\n",
      "0      Squishy     Gimmick   184                   0                       2   \n",
      "1      Torment     Squishy   200                   1                       2   \n",
      "2      Squishy     Torment   240                   2                       2   \n",
      "3      Torment               251                   3                       2   \n",
      "4      Torment     Squishy   259                   4                       2   \n",
      "5      Squishy     Gimmick    63                   0                       0   \n",
      "6      Gimmick     Squishy   235                   1                       0   \n",
      "7      Squishy               259                   2                       0   \n",
      "8      Squishy               121                   0                       0   \n",
      "9      Gimmick     Squishy   263                   2                       1   \n",
      "10     Torment               211                   1                       0   \n",
      "11      Jknaps               181                   0                       0   \n",
      "12     Kronovi               122                   0                       0   \n",
      "13     Kronovi      Jknaps   175                   1                       0   \n",
      "14      Jknaps               211                   2                       0   \n",
      "15     Kronovi      Jknaps   221                   3                       0   \n",
      "16     Kronovi      Jknaps    18                   0                       0   \n",
      "17      Jknaps                83                   1                       0   \n",
      "18       Rizzo               218                   2                       1   \n",
      "19    GarrettG                29                   0                       0   \n",
      "20    GarrettG        JSTN    73                   1                       0   \n",
      "21  Fireburner        JSTN    87                   2                       0   \n",
      "22  Fireburner    GarrettG   233                   3                       0   \n",
      "23    GarrettG  Fireburner   272                   4                       0   \n",
      "24        JSTN                26                   0                       0   \n",
      "25        JSTN    GarrettG   105                   1                       1   \n",
      "26    GarrettG  Fireburner   206                   0                       0   \n",
      "27  Fireburner        JSTN   240                   0                       1   \n",
      "28    GarrettG        JSTN   271                   1                       1   \n",
      "\n",
      "    In Rotation  Own Goal  Punish Bump Assist  \n",
      "0         False      True   False              \n",
      "1          True     False    True              \n",
      "2          True     False   False              \n",
      "3         False      True   False              \n",
      "4          True     False   False              \n",
      "5          True     False   False              \n",
      "6          True     False   False              \n",
      "7         False     False   False              \n",
      "8         False     False    True              \n",
      "9          True     False   False              \n",
      "10         True     False   False              \n",
      "11        False     False    True              \n",
      "12         True     False    True              \n",
      "13        False     False   False              \n",
      "14        False     False    True              \n",
      "15         True     False    True              \n",
      "16         True     False   False              \n",
      "17        False     False    True              \n",
      "18        False     False    True              \n",
      "19         True     False   False        JSTN  \n",
      "20         True     False   False              \n",
      "21         True     False   False              \n",
      "22         True     False   False              \n",
      "23         True     False   False              \n",
      "24        False     False   False              \n",
      "25        False     False   False              \n",
      "26        False     False   False              \n",
      "27         True     False   False              \n",
      "28         True     False   False              \n"
     ]
    }
   ],
   "source": [
    "import numpy as np\n",
    "import pandas\n",
    "import math\n",
    "\n",
    "# takes the amount of time left in a 5 minute match and returns the total elapsed time\n",
    "def to_elapsed_time(time):\n",
    "    time_arr = time.split(':')\n",
    "    minutes = int(time_arr[0])\n",
    "    seconds = int(time_arr[1])\n",
    "    total = minutes * 60 + seconds\n",
    "    return 300 - total\n",
    "\n",
    "nrg = ['GarrettG', 'JSTN', 'Fireburner']\n",
    "c9 = ['Squishy', 'Gimmick', 'Torment']\n",
    "g2 = ['Jknaps', 'Rizzo', 'Kronovi']\n",
    "df = pandas.read_csv(\"stats.csv\")\n",
    "\n",
    "df['Time'] = df['Time'].map(lambda t: to_elapsed_time(t))\n",
    "df['Passer'] = df['Passer'].map(lambda p: \"\" if type(p) == float else p)\n",
    "df['Bump Assist'] = df['Bump Assist'].map(lambda p: \"\" if type(p) == float else p)\n",
    "\n",
    "\n",
    "c9_df = df.loc[df['Scorer'].isin(c9)]\n",
    "g2_df = df.loc[df['Scorer'].isin(g2)]\n",
    "nrg_df = df.loc[df['Scorer'].isin(nrg)]\n",
    "print(df)"
   ]
  },
  {
   "cell_type": "code",
   "execution_count": 76,
   "metadata": {
    "scrolled": true
   },
   "outputs": [
    {
     "name": "stdout",
     "output_type": "stream",
     "text": [
      "     Scorer Passer  Time  Current Team Score  Current Opponent Score  \\\n",
      "3   Torment          251                   3                       2   \n",
      "7   Squishy          259                   2                       0   \n",
      "10  Torment          211                   1                       0   \n",
      "14   Jknaps          211                   2                       0   \n",
      "18    Rizzo          218                   2                       1   \n",
      "\n",
      "    In Rotation  Own Goal  Punish Bump Assist  \n",
      "3         False      True   False              \n",
      "7         False     False   False              \n",
      "10         True     False   False              \n",
      "14        False     False    True              \n",
      "18        False     False    True              \n"
     ]
    }
   ],
   "source": [
    "# late game isolations \"clutch shots\"\n",
    "iso_filter = df[\"Passer\"] == \"\"\n",
    "late_game_filter = df['Time'] > 200\n",
    "\n",
    "print(df[iso_filter & late_game_filter])"
   ]
  },
  {
   "cell_type": "code",
   "execution_count": 77,
   "metadata": {},
   "outputs": [
    {
     "name": "stdout",
     "output_type": "stream",
     "text": [
      "NRG- Percent of goals from transition: 0.3\n",
      "C9-  Percent of goals from transition: 0.36363636363636365\n",
      "G2-  Percent of goals from transition: 0.625\n"
     ]
    }
   ],
   "source": [
    "# transition ratio\n",
    "nrg_transitions = len(nrg_df[nrg_df['In Rotation'] == False])\n",
    "nrg_goals = len(nrg_df)\n",
    "c9_transitions = len(c9_df[c9_df['In Rotation'] == False])\n",
    "c9_goals = len(c9_df)\n",
    "g2_transitions = len(g2_df[g2_df['In Rotation'] == False])\n",
    "g2_goals = len(g2_df)\n",
    "\n",
    "print(\"NRG- Percent of goals from transition: {0}\".format(nrg_transitions/nrg_goals))\n",
    "print(\"C9-  Percent of goals from transition: {0}\".format(c9_transitions/c9_goals))\n",
    "print(\"G2-  Percent of goals from transition: {0}\".format(g2_transitions/g2_goals))"
   ]
  },
  {
   "cell_type": "code",
   "execution_count": 78,
   "metadata": {},
   "outputs": [
    {
     "name": "stdout",
     "output_type": "stream",
     "text": [
      "      Scorer Passer  Time  Current Team Score  Current Opponent Score  \\\n",
      "8    Squishy          121                   0                       0   \n",
      "11    Jknaps          181                   0                       0   \n",
      "12   Kronovi          122                   0                       0   \n",
      "19  GarrettG           29                   0                       0   \n",
      "24      JSTN           26                   0                       0   \n",
      "\n",
      "    In Rotation  Own Goal  Punish Bump Assist  \n",
      "8         False     False    True              \n",
      "11        False     False    True              \n",
      "12         True     False    True              \n",
      "19         True     False   False        JSTN  \n",
      "24        False     False   False              \n"
     ]
    }
   ],
   "source": [
    "# opening iso\n",
    "iso_filter = df[\"Passer\"] == \"\"\n",
    "opening_filter = df['Current Team Score'] == 0\n",
    "\n",
    "print(df[iso_filter & opening_filter])"
   ]
  }
 ],
 "metadata": {
  "kernelspec": {
   "display_name": "Python 3",
   "language": "python",
   "name": "python3"
  },
  "language_info": {
   "codemirror_mode": {
    "name": "ipython",
    "version": 3
   },
   "file_extension": ".py",
   "mimetype": "text/x-python",
   "name": "python",
   "nbconvert_exporter": "python",
   "pygments_lexer": "ipython3",
   "version": "3.6.7"
  }
 },
 "nbformat": 4,
 "nbformat_minor": 2
}
